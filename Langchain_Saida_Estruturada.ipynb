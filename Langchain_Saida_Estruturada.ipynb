{
  "nbformat": 4,
  "nbformat_minor": 0,
  "metadata": {
    "colab": {
      "provenance": [],
      "collapsed_sections": [
        "HoV9lyEwdCNR"
      ],
      "toc_visible": true
    },
    "kernelspec": {
      "name": "python3",
      "display_name": "Python 3"
    },
    "language_info": {
      "name": "python"
    }
  },
  "cells": [
    {
      "cell_type": "markdown",
      "source": [
        "## Instalando Bibliotecas"
      ],
      "metadata": {
        "id": "j85C6E2nNfNq"
      }
    },
    {
      "cell_type": "code",
      "source": [
        "%pip install -qU google-generativeai langchain-google-genai\n",
        "%pip install -qU pydantic"
      ],
      "metadata": {
        "id": "ORhBb3XTJY-S"
      },
      "execution_count": null,
      "outputs": []
    },
    {
      "cell_type": "markdown",
      "source": [
        "## Configurando Gemini"
      ],
      "metadata": {
        "id": "bP1tcMX2NuWE"
      }
    },
    {
      "cell_type": "code",
      "execution_count": null,
      "metadata": {
        "id": "WdJ6UrKCIOJj",
        "colab": {
          "base_uri": "https://localhost:8080/"
        },
        "outputId": "78fadd3d-2da6-49e5-8fb0-45beca21e38b"
      },
      "outputs": [
        {
          "output_type": "stream",
          "name": "stdout",
          "text": [
            "content='Olá! Tudo bem por aqui, obrigado por perguntar! 😊 Como posso te ajudar hoje?' additional_kwargs={} response_metadata={'prompt_feedback': {'block_reason': 0, 'safety_ratings': []}, 'finish_reason': 'STOP', 'safety_ratings': []} id='run-3addd157-b6b8-418b-a50b-5bbb95f7b382-0' usage_metadata={'input_tokens': 4, 'output_tokens': 20, 'total_tokens': 24, 'input_token_details': {'cache_read': 0}}\n"
          ]
        }
      ],
      "source": [
        "import os\n",
        "from langchain_google_genai import ChatGoogleGenerativeAI\n",
        "from google.colab import userdata\n",
        "from pydantic import BaseModel, Field\n",
        "from typing import Literal, List, Optional\n",
        "\n",
        "os.environ[\"GOOGLE_API_KEY\"] = userdata.get(\"GOOGLE_API_KEY\")\n",
        "llm = ChatGoogleGenerativeAI(model=\"gemini-2.0-flash\", temperature=0)\n",
        "print(llm.invoke(\"Olá tudo bem ?\"))"
      ]
    },
    {
      "cell_type": "markdown",
      "source": [
        "## Saida Estruturada Simples: Extraindo Dados de um Email"
      ],
      "metadata": {
        "id": "HoV9lyEwdCNR"
      }
    },
    {
      "cell_type": "code",
      "source": [
        "class reuniao(BaseModel):\n",
        "    data: str\n",
        "    hora: str\n",
        "    local: str = Field(description=\"Local da reunião\")\n",
        "    assunto: Optional[str] = Field(default=\"Email\", description=\"Assunto do email\")\n",
        "\n",
        "email_llm = llm.with_structured_output(reuniao)\n",
        "\n",
        "email_reuniao = \"\"\"\n",
        "Olá pessoal,\n",
        "Nossa reunião do projeto X foi marcada para 15/04/2025 às 15h, link do meet: meet.com.br/reuniao.\n",
        "Estão confirmados: João, Maria e Ana.\n",
        "Vamos discutir os próximos passos do lançamento.\n",
        "Até lá!\n",
        "\"\"\"\n",
        "email = email_llm.invoke(email_reuniao)\n",
        "print(email)"
      ],
      "metadata": {
        "id": "R5AkdjlpN3Ai"
      },
      "execution_count": null,
      "outputs": []
    },
    {
      "cell_type": "code",
      "source": [
        "print(email.hora)"
      ],
      "metadata": {
        "colab": {
          "base_uri": "https://localhost:8080/"
        },
        "id": "J5PfNyyMu9cP",
        "outputId": "7ee79910-9fd0-402f-c920-24bb6bf396cb"
      },
      "execution_count": null,
      "outputs": [
        {
          "output_type": "stream",
          "name": "stdout",
          "text": [
            "15h\n"
          ]
        }
      ]
    },
    {
      "cell_type": "markdown",
      "source": [
        "## Multi Agentes Simples com Saida Estruturada: Monitorando Emails"
      ],
      "metadata": {
        "id": "tVJZyuHQdGem"
      }
    },
    {
      "cell_type": "code",
      "source": [
        "class tipo_email(BaseModel):\n",
        "    tipo: Literal[\"Reuniao\", \"Agendamento de Reuniao\", \"Pedido de Vendas\", \"Outro\", \"Spam\"]\n",
        "\n",
        "classificador = llm.with_structured_output(tipo_email)\n",
        "\n",
        "email_reuniao = \"\"\"\n",
        "Olá pessoal,\n",
        "Nossa reunião do projeto X foi marcada para 15/04/2025 às 15h, link do meet: meet.com.br/reuniao.\n",
        "Estão confirmados: João, Maria e Ana.\n",
        "Vamos discutir os próximos passos do lançamento.\n",
        "Até lá!\n",
        "\"\"\"\n",
        "classificacao = classificador.invoke(email_reuniao)\n",
        "print(classificacao)"
      ],
      "metadata": {
        "id": "-Oepd5rzPVDe"
      },
      "execution_count": null,
      "outputs": []
    },
    {
      "cell_type": "markdown",
      "source": [
        "### Criando Modelos e Funções"
      ],
      "metadata": {
        "id": "MrIm9IX0emle"
      }
    },
    {
      "cell_type": "code",
      "source": [
        "# MODELOS ESTRUTURADOS\n",
        "class Reuniao(BaseModel):\n",
        "    data: str\n",
        "    hora: str\n",
        "    local: str\n",
        "    assunto: str\n",
        "\n",
        "class Produto(BaseModel):\n",
        "    nome: str\n",
        "    quantidade: int\n",
        "    valor: float\n",
        "\n",
        "class Pedido(BaseModel):\n",
        "    produtos: List[Produto]\n",
        "    valor_total: float\n",
        "\n",
        "# FUNÇÕES\n",
        "def simular_reuniao(email: str) -> str:\n",
        "    extrair_reuniao = llm.with_structured_output(Reuniao)\n",
        "    reuniao = extrair_reuniao.invoke(email)\n",
        "    print(\"Resposta gerada:\", reuniao)\n",
        "    return (\n",
        "        f\"✅ Evento criado com sucesso:\\n\"\n",
        "        f\"Assunto: {reuniao.assunto}\\n\"\n",
        "        f\"📅 {reuniao.data} às ⏰ {reuniao.hora}\\n\"\n",
        "        f\"📍 Local: {reuniao.local}\"\n",
        "    )\n",
        "\n",
        "def simular_agendamento(email: str) -> str:\n",
        "    horarios_ocupados = \"\"\"\n",
        "    Sábado: 10h, 11h, 12h\n",
        "    Segunda-feira: 10h, 11h, 12h\n",
        "    Terça-feira: 10h, 11h, 12h\n",
        "    Quarta-feira: 10h, 11h, 12h\n",
        "    \"\"\"\n",
        "\n",
        "    prompt = (\n",
        "        \"Você é um assistente de agendamento. \"\n",
        "        \"Verifique se o horário solicitado no email abaixo está disponível. \"\n",
        "        \"Se estiver, envie um email confirmando o agendamento. \"\n",
        "        \"Se não estiver, envie um email informando indisponibilidade e sugira horários livres.\\n\\n\"\n",
        "        \"Retorne apenas o conteudo do email sem dados extras\"\n",
        "        f\"Email recebido:\\n{email}\\n\"\n",
        "        f\"Horários Ocupados:\\n{horarios_ocupados}\"\n",
        "    )\n",
        "\n",
        "    resposta = llm.invoke(prompt).content\n",
        "    print(\"Resposta gerada:\", resposta)\n",
        "\n",
        "    return f\"📩 Email enviado:\\n{resposta}\"\n",
        "\n",
        "def simular_pedido_vendas(email: str) -> str:\n",
        "    extrair_pedido = llm.with_structured_output(Pedido)\n",
        "    pedido = extrair_pedido.invoke(email)\n",
        "    print(\"Resposta gerada:\", pedido)\n",
        "    lista_produtos = \"\\n\".join(\n",
        "        [f\"- {p.nome} (x{p.quantidade}) - R$ {p.valor:.2f}\" for p in pedido.produtos]\n",
        "    )\n",
        "    return f\"🛒 Pedido Recebido:\\n{lista_produtos}\\n💰 Valor Total: R$ {pedido.valor_total:.2f}\"\n",
        "\n",
        "def invoke(email: str) -> str:\n",
        "    classificacao = classificador.invoke(email)\n",
        "    classificacao = classificacao.tipo\n",
        "    print(\"Classificação:\", classificacao)\n",
        "    if classificacao == \"Reuniao\":\n",
        "        return simular_reuniao(email)\n",
        "    elif classificacao == \"Agendamento de Reuniao\":\n",
        "        return simular_agendamento(email)\n",
        "    elif classificacao == \"Pedido de Vendas\":\n",
        "        return simular_pedido_vendas(email)\n",
        "    elif classificacao == \"Outro\":\n",
        "        return \"🤖 Email encaminhado para análise humana.\"\n",
        "    else:\n",
        "        return \"🚫 Spam detectado e excluído.\"\n"
      ],
      "metadata": {
        "id": "LJ2XKlmYQ5dO"
      },
      "execution_count": null,
      "outputs": []
    },
    {
      "cell_type": "markdown",
      "source": [
        "### Templates de email"
      ],
      "metadata": {
        "id": "E6ovLkZGeqtP"
      }
    },
    {
      "cell_type": "code",
      "source": [
        "email_reuniao = \"\"\"\n",
        "Olá equipe,\n",
        "\n",
        "Gostaria de confirmar nossa reunião sobre o projeto X para amanhã às 15h, na sala 203.\n",
        "\n",
        "Assunto: Alinhamento do Projeto X\n",
        "\n",
        "Atenciosamente,\n",
        "João\n",
        "\"\"\"\n",
        "\n",
        "email_agendamento = \"\"\"\n",
        "Prezados,\n",
        "\n",
        "Gostaria de agendar uma reunião na terça-feira às 11h para discutirmos o planejamento trimestral.\n",
        "\n",
        "Aguardo confirmação.\n",
        "\n",
        "Abraços,\n",
        "Fernanda\n",
        "\"\"\"\n",
        "\n",
        "email_pedido = \"\"\"\n",
        "Olá, gostaria de fazer um pedido com os seguintes produtos:\n",
        "\n",
        "- Teclado Mecânico, 2 unidades, R$ 250,00 cada\n",
        "- Mouse Sem Fio, 1 unidade, R$ 120,00\n",
        "\n",
        "Favor confirmar o valor total e o prazo de entrega.\n",
        "\n",
        "Grato,\n",
        "Carlos\n",
        "\"\"\"\n",
        "\n",
        "email_outro = \"\"\"\n",
        "Boa tarde,\n",
        "\n",
        "Gostaria de entender mais sobre os serviços que vocês oferecem em consultoria de TI. Poderiam me enviar uma apresentação?\n",
        "\n",
        "Obrigado.\n",
        "\"\"\"\n",
        "\n",
        "email_spam = \"🤑💰 Ganhe dinheiro rápido! Clique aqui para saber mais!!\"\n"
      ],
      "metadata": {
        "id": "WFiwj-7aWUR9"
      },
      "execution_count": null,
      "outputs": []
    },
    {
      "cell_type": "markdown",
      "source": [
        "### Chamando llm"
      ],
      "metadata": {
        "id": "OOItcb-4etTH"
      }
    },
    {
      "cell_type": "code",
      "source": [
        "resposta = invoke(email_pedido)\n",
        "print(resposta)\n"
      ],
      "metadata": {
        "id": "FMIAZU4oc-Rn"
      },
      "execution_count": null,
      "outputs": []
    }
  ]
}